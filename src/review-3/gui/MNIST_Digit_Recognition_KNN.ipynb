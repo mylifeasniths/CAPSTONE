{
 "cells": [
  {
   "cell_type": "markdown",
   "metadata": {
    "colab_type": "text",
    "id": "view-in-github"
   },
   "source": [
    "<a href=\"https://colab.research.google.com/github/laxmena/100MLProjects/blob/master/Project2%20-%20Digit%20Recognition/MNIST_Digit_Recognition_KNN.ipynb\" target=\"_parent\"><img src=\"https://colab.research.google.com/assets/colab-badge.svg\" alt=\"Open In Colab\"/></a>"
   ]
  },
  {
   "cell_type": "markdown",
   "metadata": {
    "colab_type": "text",
    "id": "WsYJUK0_66uW"
   },
   "source": [
    "# Challenge2: MNIST Digit Recognition | #100MLProjects | #Laxmena\n",
    "\n",
    "**Author: Lakshmanan Meiyappan**\n",
    "\n",
    "100MLProjects Pre Project Update: [Blog: Challenge-2 MNIST Digit Recognition](https://medium.com/@laxmena/project2-of-100mlprojetcs-classification-mnist-digit-recognition-d9208856f1f2)\n",
    "\n",
    "- LinkedIn: https://www.linkedin.com/in/lakshmanan-meiyappan/\n",
    "- Github: https://github.com/laxmena/"
   ]
  },
  {
   "cell_type": "markdown",
   "metadata": {
    "colab_type": "text",
    "id": "SsW1gJaq3D04"
   },
   "source": [
    "## K-Nearest Neighbors\n",
    "- Scikit Learn\n",
    "- Custom Knn Algorithm"
   ]
  },
  {
   "cell_type": "code",
   "execution_count": 1,
   "metadata": {
    "colab": {},
    "colab_type": "code",
    "id": "wRn6Act866ua"
   },
   "outputs": [],
   "source": [
    "import numpy as np\n",
    "import pandas as pd\n",
    "import matplotlib.pyplot as plt\n",
    "from sklearn.neighbors import KNeighborsClassifier\n",
    "from sklearn.metrics import confusion_matrix, accuracy_score\n",
    "import gzip\n",
    "import random"
   ]
  },
  {
   "cell_type": "markdown",
   "metadata": {
    "colab_type": "text",
    "id": "kUeYf3xy66ul"
   },
   "source": [
    "## Load MNIST Dataset"
   ]
  },
  {
   "cell_type": "markdown",
   "metadata": {
    "colab_type": "text",
    "id": "saBHAoqF66um"
   },
   "source": [
    "MNIST Dataset can be found here: http://yann.lecun.com/exdb/mnist/\n",
    "\n",
    "File names of Training and Test sets:\n",
    "\n",
    "- train-images-idx3-ubyte.gz -  training set images (9912422 bytes)\n",
    "- train-labels-idx1-ubyte.gz -  training set labels (28881 bytes)\n",
    "- t10k-images-idx3-ubyte.gz  -  test set images (1648877 bytes)\n",
    "- t10k-labels-idx1-ubyte.gz  -  test set labels (4542 bytes)\n"
   ]
  },
  {
   "cell_type": "markdown",
   "metadata": {
    "colab_type": "text",
    "id": "EGF784xL66uo"
   },
   "source": [
    "**load_mnist** \n",
    "A function to load MNIST data into iPython Notebook\n",
    "\n",
    "**Parameters:**\n",
    "- *filename* : Name of the MNIST '.gz' file with extension\n",
    "- *type* : 'image' or 'label' to specify the type of data\n",
    "- *n_datapoints* : Number of datapoints"
   ]
  },
  {
   "cell_type": "code",
   "execution_count": 2,
   "metadata": {
    "colab": {},
    "colab_type": "code",
    "id": "OOeRHbKG66uq"
   },
   "outputs": [],
   "source": [
    "def load_mnist(filename, type, n_datapoints):\n",
    "    # MNIST Images have 28*28 pixels dimension\n",
    "    image_size = 28\n",
    "    f = gzip.open(filename)\n",
    "    \n",
    "    if(type == 'image'):\n",
    "        f.read(16)    # Skip Non-Image information\n",
    "        buf = f.read(n_datapoints * image_size * image_size)\n",
    "        data = np.frombuffer(buf, dtype=np.uint8).astype(np.float32)\n",
    "        data = data.reshape(n_datapoints, image_size, image_size, 1)\n",
    "    elif(type == 'label'):\n",
    "        f.read(8) # Skip Inessential information\n",
    "        buf = f.read(n_datapoints)\n",
    "        data = np.frombuffer(buf, dtype=np.uint8).astype(np.int64)\n",
    "        data = data.reshape(n_datapoints, 1)\n",
    "    return data"
   ]
  },
  {
   "cell_type": "code",
   "execution_count": 3,
   "metadata": {
    "colab": {},
    "colab_type": "code",
    "id": "j9HIcljV66uy"
   },
   "outputs": [],
   "source": [
    "# Training Dataset\n",
    "train_size = 60000\n",
    "test_size = 10000\n",
    "# dirpath = '/content/drive/My Drive/02 MNIST Digit Recognition/'\n",
    "dirpath = ''\n",
    "X = load_mnist(dirpath + 'train-images-idx3-ubyte.gz', 'image', train_size)\n",
    "y = load_mnist(dirpath + 'train-labels-idx1-ubyte.gz', 'label', train_size)\n",
    "X_test = load_mnist(dirpath + 't10k-images-idx3-ubyte.gz', 'image', test_size)\n",
    "y_test = load_mnist(dirpath + 't10k-labels-idx1-ubyte.gz', 'label', test_size)"
   ]
  },
  {
   "cell_type": "markdown",
   "metadata": {
    "colab_type": "text",
    "id": "Y1PfMAw066u_"
   },
   "source": [
    "To verify whether the data is loaded properly, the image and label are randomly selected and visualized"
   ]
  },
  {
   "cell_type": "code",
   "execution_count": 4,
   "metadata": {
    "colab": {
     "base_uri": "https://localhost:8080/",
     "height": 318
    },
    "colab_type": "code",
    "id": "KpiK94TO66vB",
    "outputId": "64cc481c-8145-403f-f23a-db110e058c82"
   },
   "outputs": [
    {
     "name": "stdout",
     "output_type": "stream",
     "text": [
      "Index:  41515\n",
      "Training Set: \n",
      "Label: [3]\n"
     ]
    },
    {
     "data": {
      "image/png": "[encoded data removed]",
      "text/plain": [
       "<Figure size 432x288 with 1 Axes>"
      ]
     },
     "metadata": {
      "needs_background": "light"
     },
     "output_type": "display_data"
    }
   ],
   "source": [
    "index = random.randint(0, train_size)\n",
    "print('Index: ', index)\n",
    "print('Training Set: ')\n",
    "print('Label:', y[index])\n",
    "img = np.asarray(X[index]).squeeze()\n",
    "plt.imshow(img)\n",
    "plt.show()"
   ]
  },
  {
   "cell_type": "code",
   "execution_count": 5,
   "metadata": {
    "colab": {
     "base_uri": "https://localhost:8080/",
     "height": 318
    },
    "colab_type": "code",
    "id": "eYjVK9dw66vL",
    "outputId": "f783a93e-9c58-4fbe-ab93-e663434d196c"
   },
   "outputs": [
    {
     "name": "stdout",
     "output_type": "stream",
     "text": [
      "Index:  5205\n",
      "Training Set: \n",
      "Label: [7]\n"
     ]
    },
    {
     "data": {
      "image/png": "[encoded data removed]",
      "text/plain": [
       "<Figure size 432x288 with 1 Axes>"
      ]
     },
     "metadata": {
      "needs_background": "light"
     },
     "output_type": "display_data"
    }
   ],
   "source": [
    "index = random.randint(0, test_size)\n",
    "print('Index: ', index)\n",
    "print('Training Set: ')\n",
    "print('Label:', y_test[index])\n",
    "img = np.asarray(X_test[index]).squeeze()\n",
    "plt.imshow(img)\n",
    "plt.show()\n",
    "\n",
    "t1 = X_test[index].reshape(1, 28*28)"
   ]
  },
  {
   "cell_type": "code",
   "execution_count": 6,
   "metadata": {
    "colab": {
     "base_uri": "https://localhost:8080/",
     "height": 34
    },
    "colab_type": "code",
    "id": "l70hcEZp66vT",
    "outputId": "352066c8-9ad4-4ebe-a8e4-64ef901e1372"
   },
   "outputs": [
    {
     "name": "stdout",
     "output_type": "stream",
     "text": [
      "(4500, 28, 28, 1) (1500, 28, 28, 1) (4500, 1) (1500, 1)\n"
     ]
    }
   ],
   "source": [
    "from sklearn.model_selection import train_test_split\n",
    "X_train, X_valid, y_train, y_valid = train_test_split(X[:(train_size//10)], y[:(train_size//10)], test_size=0.25, random_state=28)\n",
    "print(X_train.shape, X_valid.shape, y_train.shape, y_valid.shape)"
   ]
  },
  {
   "cell_type": "markdown",
   "metadata": {
    "colab_type": "text",
    "id": "at6s9Qod66vd"
   },
   "source": [
    "## K-Nearest Neighbors"
   ]
  },
  {
   "cell_type": "markdown",
   "metadata": {
    "colab_type": "text",
    "id": "hp0Lg0825IG_"
   },
   "source": [
    "### Determining Optimal Number of Neighbors\n",
    "\n",
    "To detect optimal value for 'K', lets compare the accuracy of KNN models with different 'K' values. \n",
    "\n",
    "By plotting the values in a graph, we can see the performance visually, and select the best performing 'K' value\n"
   ]
  },
  {
   "cell_type": "code",
   "execution_count": 7,
   "metadata": {
    "colab": {
     "base_uri": "https://localhost:8080/",
     "height": 1000
    },
    "colab_type": "code",
    "id": "f1TMad-266vg",
    "outputId": "918ef900-719f-4e29-eb98-6bc686b97b40"
   },
   "outputs": [
    {
     "name": "stdout",
     "output_type": "stream",
     "text": [
      "Begin KNN with k= 1\n"
     ]
    },
    {
     "name": "stderr",
     "output_type": "stream",
     "text": [
      "C:\\Users\\manib\\miniconda3\\envs\\menv\\lib\\site-packages\\sklearn\\neighbors\\_classification.py:179: DataConversionWarning: A column-vector y was passed when a 1d array was expected. Please change the shape of y to (n_samples,), for example using ravel().\n",
      "  return self._fit(X, y)\n"
     ]
    },
    {
     "name": "stdout",
     "output_type": "stream",
     "text": [
      "Accuracy:  0.9506666666666667\n",
      "Confusion Matrix:\n",
      " [[143   0   0   0   0   0   0   0   0   0]\n",
      " [  0 156   0   1   0   0   0   0   0   0]\n",
      " [  0   3 127   0   0   0   0   2   2   0]\n",
      " [  2   1   1 151   0   3   1   0   1   1]\n",
      " [  0   4   0   0 157   0   2   0   0   6]\n",
      " [  1   0   0   0   2 128   1   0   0   2]\n",
      " [  1   0   0   0   0   0 157   0   1   0]\n",
      " [  0   4   0   1   1   2   0 166   0   3]\n",
      " [  0   1   3   4   0   2   0   1 110   0]\n",
      " [  4   0   1   1   5   0   0   3   0 131]]\n",
      "\n",
      "---------------\n",
      "\n",
      "Begin KNN with k= 2\n"
     ]
    },
    {
     "name": "stderr",
     "output_type": "stream",
     "text": [
      "C:\\Users\\manib\\miniconda3\\envs\\menv\\lib\\site-packages\\sklearn\\neighbors\\_classification.py:179: DataConversionWarning: A column-vector y was passed when a 1d array was expected. Please change the shape of y to (n_samples,), for example using ravel().\n",
      "  return self._fit(X, y)\n"
     ]
    },
    {
     "name": "stdout",
     "output_type": "stream",
     "text": [
      "Accuracy:  0.9266666666666666\n",
      "Confusion Matrix:\n",
      " [[143   0   0   0   0   0   0   0   0   0]\n",
      " [  0 156   0   1   0   0   0   0   0   0]\n",
      " [  0   6 126   0   0   0   1   1   0   0]\n",
      " [  2   2   2 150   0   2   1   1   1   0]\n",
      " [  0   8   0   0 156   0   2   0   0   3]\n",
      " [  4   1   0   1   2 125   1   0   0   0]\n",
      " [  1   0   0   0   1   2 155   0   0   0]\n",
      " [  1   6   1   1   7   1   0 159   0   1]\n",
      " [  0   3   6   5   0   7   0   0 100   0]\n",
      " [  5   2   0   2  10   1   0   5   0 120]]\n",
      "\n",
      "---------------\n",
      "\n",
      "Begin KNN with k= 3\n"
     ]
    },
    {
     "name": "stderr",
     "output_type": "stream",
     "text": [
      "C:\\Users\\manib\\miniconda3\\envs\\menv\\lib\\site-packages\\sklearn\\neighbors\\_classification.py:179: DataConversionWarning: A column-vector y was passed when a 1d array was expected. Please change the shape of y to (n_samples,), for example using ravel().\n",
      "  return self._fit(X, y)\n"
     ]
    },
    {
     "name": "stdout",
     "output_type": "stream",
     "text": [
      "Accuracy:  0.938\n",
      "Confusion Matrix:\n",
      " [[143   0   0   0   0   0   0   0   0   0]\n",
      " [  0 156   0   1   0   0   0   0   0   0]\n",
      " [  0   5 126   1   0   0   0   1   1   0]\n",
      " [  2   2   0 152   0   3   0   0   0   2]\n",
      " [  0   7   0   0 155   0   1   0   0   6]\n",
      " [  4   2   0   2   2 119   1   0   2   2]\n",
      " [  2   0   0   0   1   1 155   0   0   0]\n",
      " [  1   4   0   0   5   0   0 163   0   4]\n",
      " [  0   3   4   7   0   1   0   0 106   0]\n",
      " [  4   1   0   2   1   0   1   4   0 132]]\n",
      "\n",
      "---------------\n",
      "\n",
      "Begin KNN with k= 4\n"
     ]
    },
    {
     "name": "stderr",
     "output_type": "stream",
     "text": [
      "C:\\Users\\manib\\miniconda3\\envs\\menv\\lib\\site-packages\\sklearn\\neighbors\\_classification.py:179: DataConversionWarning: A column-vector y was passed when a 1d array was expected. Please change the shape of y to (n_samples,), for example using ravel().\n",
      "  return self._fit(X, y)\n"
     ]
    },
    {
     "name": "stdout",
     "output_type": "stream",
     "text": [
      "Accuracy:  0.9386666666666666\n",
      "Confusion Matrix:\n",
      " [[143   0   0   0   0   0   0   0   0   0]\n",
      " [  0 156   0   1   0   0   0   0   0   0]\n",
      " [  0   5 126   1   0   0   1   1   0   0]\n",
      " [  2   2   0 154   0   1   0   0   0   2]\n",
      " [  0   6   0   0 158   0   1   0   0   4]\n",
      " [  3   1   0   5   1 117   1   1   2   3]\n",
      " [  2   0   0   0   0   1 156   0   0   0]\n",
      " [  1   4   0   0   3   1   0 165   0   3]\n",
      " [  0   3   4   5   0   3   0   0 106   0]\n",
      " [  4   1   0   2   4   0   1   6   0 127]]\n",
      "\n",
      "---------------\n",
      "\n",
      "Begin KNN with k= 5\n"
     ]
    },
    {
     "name": "stderr",
     "output_type": "stream",
     "text": [
      "C:\\Users\\manib\\miniconda3\\envs\\menv\\lib\\site-packages\\sklearn\\neighbors\\_classification.py:179: DataConversionWarning: A column-vector y was passed when a 1d array was expected. Please change the shape of y to (n_samples,), for example using ravel().\n",
      "  return self._fit(X, y)\n"
     ]
    },
    {
     "name": "stdout",
     "output_type": "stream",
     "text": [
      "Accuracy:  0.9393333333333334\n",
      "Confusion Matrix:\n",
      " [[141   0   0   0   0   1   1   0   0   0]\n",
      " [  0 157   0   0   0   0   0   0   0   0]\n",
      " [  0   5 126   0   0   0   0   1   2   0]\n",
      " [  1   3   0 154   0   1   0   0   0   2]\n",
      " [  0   6   0   0 154   0   1   0   0   8]\n",
      " [  3   2   0   5   1 117   2   0   1   3]\n",
      " [  2   0   0   0   0   1 156   0   0   0]\n",
      " [  1   5   0   0   2   1   0 165   0   3]\n",
      " [  0   3   3   5   0   3   0   0 107   0]\n",
      " [  4   2   0   1   1   0   1   4   0 132]]\n",
      "\n",
      "---------------\n",
      "\n",
      "Begin KNN with k= 6\n"
     ]
    },
    {
     "name": "stderr",
     "output_type": "stream",
     "text": [
      "C:\\Users\\manib\\miniconda3\\envs\\menv\\lib\\site-packages\\sklearn\\neighbors\\_classification.py:179: DataConversionWarning: A column-vector y was passed when a 1d array was expected. Please change the shape of y to (n_samples,), for example using ravel().\n",
      "  return self._fit(X, y)\n"
     ]
    },
    {
     "name": "stdout",
     "output_type": "stream",
     "text": [
      "Accuracy:  0.94\n",
      "Confusion Matrix:\n",
      " [[141   0   0   0   0   1   1   0   0   0]\n",
      " [  0 157   0   0   0   0   0   0   0   0]\n",
      " [  1   6 123   1   0   0   0   1   2   0]\n",
      " [  1   3   0 155   0   0   0   0   0   2]\n",
      " [  0   6   0   0 155   0   1   0   0   7]\n",
      " [  3   1   0   5   1 117   2   1   1   3]\n",
      " [  1   1   0   0   0   1 156   0   0   0]\n",
      " [  0   5   0   0   2   1   0 167   0   2]\n",
      " [  0   3   3   6   0   1   0   0 108   0]\n",
      " [  4   1   0   2   1   0   1   5   0 131]]\n",
      "\n",
      "---------------\n",
      "\n",
      "Begin KNN with k= 7\n"
     ]
    },
    {
     "name": "stderr",
     "output_type": "stream",
     "text": [
      "C:\\Users\\manib\\miniconda3\\envs\\menv\\lib\\site-packages\\sklearn\\neighbors\\_classification.py:179: DataConversionWarning: A column-vector y was passed when a 1d array was expected. Please change the shape of y to (n_samples,), for example using ravel().\n",
      "  return self._fit(X, y)\n"
     ]
    },
    {
     "name": "stdout",
     "output_type": "stream",
     "text": [
      "Accuracy:  0.9366666666666666\n",
      "Confusion Matrix:\n",
      " [[140   0   0   0   0   1   2   0   0   0]\n",
      " [  0 156   0   0   0   0   0   0   0   1]\n",
      " [  1   5 124   0   0   0   0   2   2   0]\n",
      " [  2   4   0 153   0   0   0   0   0   2]\n",
      " [  0   6   0   0 150   0   2   0   0  11]\n",
      " [  3   2   0   4   1 118   2   0   1   3]\n",
      " [  2   1   0   0   0   1 155   0   0   0]\n",
      " [  0   5   0   0   2   1   0 165   0   4]\n",
      " [  0   3   1   5   0   2   0   0 110   0]\n",
      " [  4   1   0   2   0   0   1   3   0 134]]\n",
      "\n",
      "---------------\n",
      "\n",
      "Begin KNN with k= 8\n"
     ]
    },
    {
     "name": "stderr",
     "output_type": "stream",
     "text": [
      "C:\\Users\\manib\\miniconda3\\envs\\menv\\lib\\site-packages\\sklearn\\neighbors\\_classification.py:179: DataConversionWarning: A column-vector y was passed when a 1d array was expected. Please change the shape of y to (n_samples,), for example using ravel().\n",
      "  return self._fit(X, y)\n"
     ]
    },
    {
     "name": "stdout",
     "output_type": "stream",
     "text": [
      "Accuracy:  0.936\n",
      "Confusion Matrix:\n",
      " [[141   0   0   0   0   1   1   0   0   0]\n",
      " [  0 156   0   0   0   0   0   0   0   1]\n",
      " [  1   5 125   0   0   0   0   1   2   0]\n",
      " [  1   4   0 154   0   0   0   0   0   2]\n",
      " [  0   6   0   0 154   0   2   0   0   7]\n",
      " [  3   2   0   5   1 118   2   0   0   3]\n",
      " [  2   1   0   0   0   1 155   0   0   0]\n",
      " [  0   6   0   0   1   1   0 165   0   4]\n",
      " [  0   3   2   7   0   3   0   0 106   0]\n",
      " [  3   1   0   2   2   1   1   5   0 130]]\n",
      "\n",
      "---------------\n",
      "\n"
     ]
    }
   ],
   "source": [
    "score = []\n",
    "\n",
    "for k in range(1, 9):\n",
    "  print('Begin KNN with k=',k)\n",
    "  classifier = KNeighborsClassifier(n_neighbors=k)\n",
    "  classifier = classifier.fit(X_train.reshape(X_train.shape[0], 28*28), y_train)\n",
    "  pred = classifier.predict(X_valid.reshape(X_valid.shape[0], 28*28))\n",
    "  accuracy = accuracy_score(y_valid, pred)\n",
    "  score.append(accuracy)\n",
    "  print(\"Accuracy: \",accuracy)\n",
    "  print(\"Confusion Matrix:\\n\", confusion_matrix(y_valid, pred))\n",
    "  print(\"\\n---------------\\n\")"
   ]
  },
  {
   "cell_type": "code",
   "execution_count": 8,
   "metadata": {
    "colab": {
     "base_uri": "https://localhost:8080/",
     "height": 295
    },
    "colab_type": "code",
    "id": "i2UZfKBGwyjI",
    "outputId": "d5a238e0-3e96-4466-b31c-ccdaa711b957"
   },
   "outputs": [
    {
     "data": {
      "image/png": "[encoded data removed]",
      "text/plain": [
       "<Figure size 432x288 with 1 Axes>"
      ]
     },
     "metadata": {
      "needs_background": "light"
     },
     "output_type": "display_data"
    }
   ],
   "source": [
    "plt.plot(range(1,9), score)\n",
    "plt.title('Determining the Optimal Number of Neighbors')\n",
    "plt.xlabel('K - Number of Neighbors')\n",
    "plt.ylabel('Accuracy')\n",
    "plt.show()"
   ]
  },
  {
   "cell_type": "markdown",
   "metadata": {
    "colab_type": "text",
    "id": "hflz6GWM5FMj"
   },
   "source": [
    "Values of K, and performance  \n",
    "- K = 1, accuracy = 94.1\n",
    "- k = 2, accuracy = 92.2\n",
    "- k = 3, accuracy = 93.3\n",
    "- k = 4, accuracy = 93.5\n",
    "- k = 5, accuracy = 93.5\n",
    "- k = 6, accuracy = 92.8\n",
    "- k = 7, accuracy = 93.2\n",
    "- k = 8, accuracy = 93.1\n",
    "\n",
    "Looking at the performance scores, K=1 might seem the most promising model as it has the highest accuracy.\n",
    "\n",
    "But pragmatically, trying to predict a datapoint based on only one neighbor is definitely not a better choice to make. So, it's a wise choice to ignore the option.\n",
    "\n",
    "There is a huge dip in performance for K=2, and a steep increase when the neighbors are increased to 3.\n",
    "\n",
    "The performance curve increases for K=4, and stays same for k=5.\n",
    "\n",
    "It's upto us to choose either 4 or 5 for our requirement."
   ]
  },
  {
   "cell_type": "code",
   "execution_count": 10,
   "metadata": {
    "colab": {
     "base_uri": "https://localhost:8080/",
     "height": 125
    },
    "colab_type": "code",
    "id": "8rEmYoR01MDA",
    "outputId": "dc52a5b6-1bd1-4858-db56-975905904b44"
   },
   "outputs": [
    {
     "name": "stdout",
     "output_type": "stream",
     "text": [
      "Training the Model\n",
      "Wall time: 171 ms\n"
     ]
    },
    {
     "name": "stderr",
     "output_type": "stream",
     "text": [
      "C:\\Users\\manib\\miniconda3\\envs\\menv\\lib\\site-packages\\sklearn\\neighbors\\_classification.py:179: DataConversionWarning: A column-vector y was passed when a 1d array was expected. Please change the shape of y to (n_samples,), for example using ravel().\n",
      "  return self._fit(X, y)\n"
     ]
    }
   ],
   "source": [
    "%%time\n",
    "print('Training the Model')\n",
    "classifier = KNeighborsClassifier(n_neighbors=5)\n",
    "classifier = classifier.fit(X.reshape(X.shape[0], 28*28), y)"
   ]
  },
  {
   "cell_type": "markdown",
   "metadata": {
    "colab_type": "text",
    "id": "XMs0rvbNwmV6"
   },
   "source": [
    "## Testing the Model"
   ]
  },
  {
   "cell_type": "code",
   "execution_count": 15,
   "metadata": {
    "colab": {
     "base_uri": "https://localhost:8080/",
     "height": 52
    },
    "colab_type": "code",
    "id": "Ex8t-WDO66wI",
    "outputId": "97d207d3-1b61-4568-ada8-09822953e51f"
   },
   "outputs": [
    {
     "name": "stdout",
     "output_type": "stream",
     "text": [
      "CPU times: user 16min 7s, sys: 142 ms, total: 16min 7s\n",
      "Wall time: 16min 8s\n"
     ]
    }
   ],
   "source": [
    "%%time\n",
    "y_pred = classifier.predict(X_test.reshape(X_test.shape[0], 28*28))"
   ]
  },
  {
   "cell_type": "code",
   "execution_count": 16,
   "metadata": {
    "colab": {
     "base_uri": "https://localhost:8080/",
     "height": 210
    },
    "colab_type": "code",
    "id": "GqxMZtWa66wR",
    "outputId": "2897cc5d-944f-42cc-a77b-2ad6d05da175"
   },
   "outputs": [
    {
     "name": "stdout",
     "output_type": "stream",
     "text": [
      "[[ 974    1    1    0    0    1    2    1    0    0]\n",
      " [   0 1133    2    0    0    0    0    0    0    0]\n",
      " [  11    8  991    2    1    0    1   15    3    0]\n",
      " [   0    3    3  976    1   13    1    6    3    4]\n",
      " [   3    7    0    0  944    0    4    2    1   21]\n",
      " [   5    0    0   12    2  862    4    1    2    4]\n",
      " [   5    3    0    0    3    2  945    0    0    0]\n",
      " [   0   22    4    0    3    0    0  988    0   11]\n",
      " [   8    3    5   13    6   12    5    5  913    4]\n",
      " [   5    7    3    9    7    3    1   10    2  962]]\n",
      "0.9688\n"
     ]
    }
   ],
   "source": [
    "print(confusion_matrix(y_test, y_pred))\n",
    "print(accuracy_score(y_test, y_pred))"
   ]
  },
  {
   "cell_type": "code",
   "execution_count": 18,
   "metadata": {
    "colab": {
     "base_uri": "https://localhost:8080/",
     "height": 316
    },
    "colab_type": "code",
    "id": "lqIrHVGW2B6o",
    "outputId": "cb77e619-288b-4a9b-de5c-8f9d8771c690"
   },
   "outputs": [
    {
     "name": "stdout",
     "output_type": "stream",
     "text": [
      "              precision    recall  f1-score   support\n",
      "\n",
      "           0       0.99      0.96      0.98      1011\n",
      "           1       1.00      0.95      0.98      1187\n",
      "           2       0.96      0.98      0.97      1009\n",
      "           3       0.97      0.96      0.97      1012\n",
      "           4       0.96      0.98      0.97       967\n",
      "           5       0.97      0.97      0.97       893\n",
      "           6       0.99      0.98      0.98       963\n",
      "           7       0.96      0.96      0.96      1028\n",
      "           8       0.94      0.99      0.96       924\n",
      "           9       0.95      0.96      0.95      1006\n",
      "\n",
      "    accuracy                           0.97     10000\n",
      "   macro avg       0.97      0.97      0.97     10000\n",
      "weighted avg       0.97      0.97      0.97     10000\n",
      "\n"
     ]
    }
   ],
   "source": [
    "from sklearn.metrics import classification_report\n",
    "\n",
    "print(classification_report(y_pred, y_test))"
   ]
  },
  {
   "cell_type": "markdown",
   "metadata": {
    "colab_type": "text",
    "id": "NNvY7Q3c9HHj"
   },
   "source": [
    "## Results\n",
    "\n",
    "KNN Model with 5 neighbors performed really well with 96.88% accuracy.\n",
    "\n"
   ]
  },
  {
   "cell_type": "code",
   "execution_count": 11,
   "metadata": {},
   "outputs": [
    {
     "data": {
      "text/plain": [
       "['knn_m.gzip']"
      ]
     },
     "execution_count": 11,
     "metadata": {},
     "output_type": "execute_result"
    }
   ],
   "source": [
    "import joblib\n",
    "\n",
    "joblib.dump(classifier, 'knn_m.gzip', compress=('gzip',3))"
   ]
  }
 ],
 "metadata": {
  "colab": {
   "collapsed_sections": [],
   "include_colab_link": true,
   "name": "MNIST Digit Recognition - KNN.ipynb",
   "provenance": [],
   "toc_visible": true
  },
  "kernelspec": {
   "display_name": "Python 3",
   "language": "python",
   "name": "python3"
  },
  "language_info": {
   "codemirror_mode": {
    "name": "ipython",
    "version": 3
   },
   "file_extension": ".py",
   "mimetype": "text/x-python",
   "name": "python",
   "nbconvert_exporter": "python",
   "pygments_lexer": "ipython3",
   "version": "3.7.10"
  }
 },
 "nbformat": 4,
 "nbformat_minor": 1
}
