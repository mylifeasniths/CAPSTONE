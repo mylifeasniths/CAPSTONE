{
 "cells": [
  {
   "cell_type": "markdown",
   "metadata": {},
   "source": [
    "# Handwritten Digit Classification - GUI\n",
    "\n",
    "## #100MLProjects | #laxmena\n",
    "\n",
    "### Note:\n",
    "- This program runs only in Windows/Mac"
   ]
  },
  {
   "cell_type": "code",
   "execution_count": 1,
   "metadata": {},
   "outputs": [],
   "source": [
    "from tkinter import * \n",
    "import tkinter as tk\n",
    "from PIL import Image, ImageGrab, ImageOps\n",
    "import numpy as np\n",
    "import joblib"
   ]
  },
  {
   "cell_type": "markdown",
   "metadata": {},
   "source": [
    "## Load Trained Model"
   ]
  },
  {
   "cell_type": "code",
   "execution_count": 2,
   "metadata": {},
   "outputs": [],
   "source": [
    "classifier = joblib.load('svc_m.gz')\n",
    "# classifier = joblib.load('knn_m.gzip')"
   ]
  },
  {
   "cell_type": "markdown",
   "metadata": {},
   "source": [
    "## GUI "
   ]
  },
  {
   "cell_type": "code",
   "execution_count": 15,
   "metadata": {},
   "outputs": [],
   "source": [
    "class GUI(tk.Tk):\n",
    "    def __init__(self):\n",
    "        tk.Tk.__init__(self)\n",
    "        self.title(\"SVM\")\n",
    "        self.canvas_width = 200\n",
    "        self.canvas_height = 200\n",
    "        self.bg_color = \"white\"\n",
    "        self.paint_color = \"black\"\n",
    "        self.radius = 8\n",
    "        self.init_canvas()\n",
    "        \n",
    "        \n",
    "    def init_canvas(self):\n",
    "        self.canvas = Canvas(self, width=self.canvas_width, height=self.canvas_width, bg = self.bg_color, cursor=\"cross\")\n",
    "        self.button_clear = tk.Button(self, text = \"Clear\", command = self.clear_all)\n",
    "        self.button_predict = tk.Button(self, text = \"Predict\", command = self.predict)\n",
    "        self.label_digit = tk.Label(self, text=\"\", font=(\"Helvetica\"))\n",
    "        self.canvas.grid(row=0, column=0, pady=2, sticky=W, )\n",
    "        self.button_clear.grid(row=1, column=0, pady=2)\n",
    "        self.button_predict.grid(row=1, column=1, pady=2)\n",
    "        self.label_digit.grid(row=0, column=1, padx=2, pady=2)\n",
    "        self.canvas.bind(\"<B1-Motion>\", self.paint)\n",
    "\n",
    "    def paint(self, event):\n",
    "        x1, y1 = (event.x - self.radius), (event.y - self.radius)\n",
    "        x2, y2 = (event.x + self.radius), (event.y + self.radius)\n",
    "        self.canvas.create_oval(x1, y1, x2, y2, fill=self.paint_color, outline=self.paint_color)\n",
    "\n",
    "    def clear_all(self):\n",
    "        self.canvas.delete(\"all\")\n",
    "        self.label_digit.configure(text='')\n",
    "    \n",
    "    def preprocess(self):\n",
    "        fileName = 'input'\n",
    "        \n",
    "        x = self.canvas.winfo_x() + self.winfo_x() + 10\n",
    "        y = self.canvas.winfo_y() + self.winfo_y() + 30\n",
    "        x1 = x + self.canvas_width\n",
    "        y1 = y + self.canvas_height\n",
    "        \n",
    "        # Screenshot and Save Image in Canvas\n",
    "        img = ImageGrab.grab().crop((x,y,x1,y1))\n",
    "        img.save(fileName + \".jpg\")\n",
    "        \n",
    "        # Invert Image\n",
    "        img = ImageOps.invert(img)\n",
    "        img.save(fileName + \"_negative\" + \".jpg\")\n",
    "        \n",
    "        # Resize and convert it into greyscale\n",
    "        img = img.resize((28,28))\n",
    "        img = img.convert('L')\n",
    "        img.save(fileName + \"_28x28\" + \".jpg\")\n",
    "        \n",
    "        # Convert it into Numpy array\n",
    "        img = np.array(img)\n",
    "        img = img.reshape(28*28)\n",
    "        print(\"Pre Processing complete\")\n",
    "        return img\n",
    "    \n",
    "    def predict(self):\n",
    "        img = self.preprocess()\n",
    "        digit = classifier.predict([img])\n",
    "        text = f'{digit[0]}'\n",
    "        self.label_digit.configure(text=text)\n",
    "        "
   ]
  },
  {
   "cell_type": "code",
   "execution_count": 16,
   "metadata": {},
   "outputs": [
    {
     "name": "stdout",
     "output_type": "stream",
     "text": [
      "Pre Processing complete\n",
      "Pre Processing complete\n",
      "Pre Processing complete\n",
      "Pre Processing complete\n",
      "Pre Processing complete\n",
      "Pre Processing complete\n",
      "Pre Processing complete\n",
      "Pre Processing complete\n",
      "Pre Processing complete\n",
      "Pre Processing complete\n",
      "Pre Processing complete\n",
      "Pre Processing complete\n",
      "Pre Processing complete\n",
      "Pre Processing complete\n",
      "Pre Processing complete\n",
      "Pre Processing complete\n",
      "Pre Processing complete\n",
      "Pre Processing complete\n",
      "Pre Processing complete\n",
      "Pre Processing complete\n",
      "Pre Processing complete\n",
      "Pre Processing complete\n",
      "Pre Processing complete\n",
      "Pre Processing complete\n",
      "Pre Processing complete\n",
      "Pre Processing complete\n",
      "Pre Processing complete\n",
      "Pre Processing complete\n",
      "Pre Processing complete\n",
      "Pre Processing complete\n",
      "Pre Processing complete\n",
      "Pre Processing complete\n",
      "Pre Processing complete\n",
      "Pre Processing complete\n",
      "Pre Processing complete\n",
      "Pre Processing complete\n",
      "Pre Processing complete\n",
      "Pre Processing complete\n",
      "Pre Processing complete\n",
      "Pre Processing complete\n",
      "Pre Processing complete\n",
      "Pre Processing complete\n",
      "Pre Processing complete\n",
      "Pre Processing complete\n",
      "Pre Processing complete\n",
      "Pre Processing complete\n",
      "Pre Processing complete\n",
      "Pre Processing complete\n",
      "Pre Processing complete\n",
      "Pre Processing complete\n",
      "Pre Processing complete\n",
      "Pre Processing complete\n",
      "Pre Processing complete\n",
      "Pre Processing complete\n",
      "Pre Processing complete\n",
      "Pre Processing complete\n"
     ]
    }
   ],
   "source": [
    "app = GUI()\n",
    "mainloop()"
   ]
  },
  {
   "cell_type": "code",
   "execution_count": null,
   "metadata": {},
   "outputs": [],
   "source": []
  }
 ],
 "metadata": {
  "kernelspec": {
   "display_name": "Python 3",
   "language": "python",
   "name": "python3"
  },
  "language_info": {
   "codemirror_mode": {
    "name": "ipython",
    "version": 3
   },
   "file_extension": ".py",
   "mimetype": "text/x-python",
   "name": "python",
   "nbconvert_exporter": "python",
   "pygments_lexer": "ipython3",
   "version": "3.7.10"
  }
 },
 "nbformat": 4,
 "nbformat_minor": 2
}
