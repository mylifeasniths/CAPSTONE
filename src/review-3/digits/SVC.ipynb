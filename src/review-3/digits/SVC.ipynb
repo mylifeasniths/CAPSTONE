{
 "cells": [
  {
   "cell_type": "markdown",
   "metadata": {},
   "source": [
    "# Challenge2: MNIST Digit Recognition | #100MLProjects | #Laxmena\n",
    "\n",
    "**Author: Lakshmanan Meiyappan**\n",
    "\n",
    "100MLProjects Pre Project Update: [Blog: Challenge-2 MNIST Digit Recognition](https://medium.com/@laxmena/project2-of-100mlprojetcs-classification-mnist-digit-recognition-d9208856f1f2)\n",
    "\n",
    "- LinkedIn: https://www.linkedin.com/in/lakshmanan-meiyappan/\n",
    "- Github: https://github.com/laxmena/"
   ]
  },
  {
   "cell_type": "markdown",
   "metadata": {},
   "source": [
    "## SVM Classification\n"
   ]
  },
  {
   "cell_type": "code",
   "execution_count": 1,
   "metadata": {
    "colab": {},
    "colab_type": "code",
    "id": "Z2DG_LnaGKzP"
   },
   "outputs": [],
   "source": [
    "import numpy as np\n",
    "import pandas as pd\n",
    "import matplotlib.pyplot as plt"
   ]
  },
  {
   "cell_type": "code",
   "execution_count": 2,
   "metadata": {
    "colab": {},
    "colab_type": "code",
    "id": "4tQLjqLPGa-I"
   },
   "outputs": [],
   "source": [
    "from sklearn.svm import SVC\n",
    "from sklearn.model_selection import train_test_split\n",
    "from sklearn.metrics import confusion_matrix, classification_report"
   ]
  },
  {
   "cell_type": "code",
   "execution_count": 3,
   "metadata": {},
   "outputs": [],
   "source": [
    "import random\n",
    "import gzip"
   ]
  },
  {
   "cell_type": "markdown",
   "metadata": {},
   "source": [
    "## Load MNIST Dataset"
   ]
  },
  {
   "cell_type": "markdown",
   "metadata": {},
   "source": [
    "MNIST Dataset can be found here: http://yann.lecun.com/exdb/mnist/\n",
    "\n",
    "File names of Training and Test sets:\n",
    "\n",
    "- train-images-idx3-ubyte.gz -  training set images (9912422 bytes)\n",
    "- train-labels-idx1-ubyte.gz -  training set labels (28881 bytes)\n",
    "- t10k-images-idx3-ubyte.gz  -  test set images (1648877 bytes)\n",
    "- t10k-labels-idx1-ubyte.gz  -  test set labels (4542 bytes)\n"
   ]
  },
  {
   "cell_type": "markdown",
   "metadata": {},
   "source": [
    "**load_mnist** \n",
    "A function to load MNIST data into iPython Notebook\n",
    "\n",
    "**Parameters:**\n",
    "- *filename* : Name of the MNIST '.gz' file with extension\n",
    "- *type* : 'image' or 'label' to specify the type of data\n",
    "- *n_datapoints* : Number of datapoints"
   ]
  },
  {
   "cell_type": "code",
   "execution_count": 24,
   "metadata": {},
   "outputs": [],
   "source": [
    "def load_mnist(filename, type, n_datapoints):\n",
    "    # MNIST Images have 28*28 pixels dimension\n",
    "    image_size = 28\n",
    "    f = gzip.open(filename)\n",
    "    \n",
    "    if(type == 'image'):\n",
    "        f.read(16)    # Skip Non-Image information\n",
    "        buf = f.read(n_datapoints * image_size * image_size)\n",
    "        data = np.frombuffer(buf, dtype=np.uint8).astype(np.float32)\n",
    "        data = data.reshape(n_datapoints, image_size, image_size, 1)\n",
    "    elif(type == 'label'):\n",
    "        f.read(8) # Skip Inessential information\n",
    "        buf = f.read(n_datapoints)\n",
    "        data = np.frombuffer(buf, dtype=np.uint8).astype(np.int64)\n",
    "        data = data.reshape(n_datapoints, 1)\n",
    "    return data"
   ]
  },
  {
   "cell_type": "code",
   "execution_count": 25,
   "metadata": {},
   "outputs": [],
   "source": [
    "# Training Dataset\n",
    "train_size = 6000\n",
    "test_size = 1000\n",
    "# dirpath = '/content/drive/My Drive/02 MNIST Digit Recognition/'\n",
    "dirpath = ''\n",
    "X = load_mnist(dirpath + 'train-images-idx3-ubyte.gz', 'image', train_size)\n",
    "y = load_mnist(dirpath + 'train-labels-idx1-ubyte.gz', 'label', train_size)\n",
    "X_test = load_mnist(dirpath + 't10k-images-idx3-ubyte.gz', 'image', test_size)\n",
    "y_test = load_mnist(dirpath + 't10k-labels-idx1-ubyte.gz', 'label', test_size)"
   ]
  },
  {
   "cell_type": "code",
   "execution_count": 6,
   "metadata": {},
   "outputs": [
    {
     "name": "stdout",
     "output_type": "stream",
     "text": [
      "(450, 784) (150, 784) (450, 1) (150, 1)\n"
     ]
    }
   ],
   "source": [
    "from sklearn.model_selection import train_test_split\n",
    "X_train, X_valid, y_train, y_valid = train_test_split(X[:(train_size//10)], y[:(train_size//10)], test_size=0.25, random_state=28)\n",
    "print(X_train.shape, X_valid.shape, y_train.shape, y_valid.shape)"
   ]
  },
  {
   "cell_type": "markdown",
   "metadata": {},
   "source": [
    "## Build SVM Model"
   ]
  },
  {
   "cell_type": "code",
   "execution_count": 37,
   "metadata": {},
   "outputs": [],
   "source": [
    "classifier = SVC()"
   ]
  },
  {
   "cell_type": "code",
   "execution_count": 38,
   "metadata": {
    "scrolled": true
   },
   "outputs": [
    {
     "name": "stdout",
     "output_type": "stream",
     "text": [
      "Training the Model\n"
     ]
    },
    {
     "name": "stderr",
     "output_type": "stream",
     "text": [
      "C:\\Users\\DR.VALLIAMMAI\\Anaconda3\\lib\\site-packages\\sklearn\\utils\\validation.py:724: DataConversionWarning: A column-vector y was passed when a 1d array was expected. Please change the shape of y to (n_samples, ), for example using ravel().\n",
      "  y = column_or_1d(y, warn=True)\n",
      "C:\\Users\\DR.VALLIAMMAI\\Anaconda3\\lib\\site-packages\\sklearn\\svm\\base.py:193: FutureWarning: The default value of gamma will change from 'auto' to 'scale' in version 0.22 to account better for unscaled features. Set gamma explicitly to 'auto' or 'scale' to avoid this warning.\n",
      "  \"avoid this warning.\", FutureWarning)\n"
     ]
    },
    {
     "name": "stdout",
     "output_type": "stream",
     "text": [
      "Wall time: 1min 22s\n"
     ]
    }
   ],
   "source": [
    "%%time\n",
    "print('Training the Model')\n",
    "classifier = classifier.fit(X.reshape(X.shape[0],28*28), y)"
   ]
  },
  {
   "cell_type": "markdown",
   "metadata": {},
   "source": [
    "## Predict "
   ]
  },
  {
   "cell_type": "code",
   "execution_count": 34,
   "metadata": {},
   "outputs": [],
   "source": [
    "y_pred = classifier.predict(X_test.reshape(X_test.shape[0],28*28))"
   ]
  },
  {
   "cell_type": "code",
   "execution_count": 35,
   "metadata": {},
   "outputs": [
    {
     "name": "stdout",
     "output_type": "stream",
     "text": [
      "              precision    recall  f1-score   support\n",
      "\n",
      "           0       0.00      0.00      0.00        85\n",
      "           1       0.13      1.00      0.22       126\n",
      "           2       0.00      0.00      0.00       116\n",
      "           3       0.00      0.00      0.00       107\n",
      "           4       0.00      0.00      0.00       110\n",
      "           5       0.00      0.00      0.00        87\n",
      "           6       0.00      0.00      0.00        87\n",
      "           7       0.00      0.00      0.00        99\n",
      "           8       0.00      0.00      0.00        89\n",
      "           9       0.00      0.00      0.00        94\n",
      "\n",
      "    accuracy                           0.13      1000\n",
      "   macro avg       0.01      0.10      0.02      1000\n",
      "weighted avg       0.02      0.13      0.03      1000\n",
      "\n"
     ]
    },
    {
     "name": "stderr",
     "output_type": "stream",
     "text": [
      "C:\\Users\\DR.VALLIAMMAI\\Anaconda3\\lib\\site-packages\\sklearn\\metrics\\classification.py:1437: UndefinedMetricWarning: Precision and F-score are ill-defined and being set to 0.0 in labels with no predicted samples.\n",
      "  'precision', 'predicted', average, warn_for)\n"
     ]
    }
   ],
   "source": [
    "print(classification_report(y_test, y_pred))"
   ]
  },
  {
   "cell_type": "code",
   "execution_count": 36,
   "metadata": {},
   "outputs": [
    {
     "data": {
      "text/plain": [
       "array([[  0,  85,   0,   0,   0,   0,   0,   0,   0,   0],\n",
       "       [  0, 126,   0,   0,   0,   0,   0,   0,   0,   0],\n",
       "       [  0, 116,   0,   0,   0,   0,   0,   0,   0,   0],\n",
       "       [  0, 107,   0,   0,   0,   0,   0,   0,   0,   0],\n",
       "       [  0, 110,   0,   0,   0,   0,   0,   0,   0,   0],\n",
       "       [  0,  87,   0,   0,   0,   0,   0,   0,   0,   0],\n",
       "       [  0,  87,   0,   0,   0,   0,   0,   0,   0,   0],\n",
       "       [  0,  99,   0,   0,   0,   0,   0,   0,   0,   0],\n",
       "       [  0,  89,   0,   0,   0,   0,   0,   0,   0,   0],\n",
       "       [  0,  94,   0,   0,   0,   0,   0,   0,   0,   0]], dtype=int64)"
      ]
     },
     "execution_count": 36,
     "metadata": {},
     "output_type": "execute_result"
    }
   ],
   "source": [
    "confusion_matrix(y_test, y_pred)"
   ]
  },
  {
   "cell_type": "code",
   "execution_count": 27,
   "metadata": {},
   "outputs": [
    {
     "data": {
      "text/plain": [
       "(28, 28, 1)"
      ]
     },
     "execution_count": 27,
     "metadata": {},
     "output_type": "execute_result"
    }
   ],
   "source": [
    "X[0].shape"
   ]
  },
  {
   "cell_type": "code",
   "execution_count": 29,
   "metadata": {},
   "outputs": [
    {
     "data": {
      "text/plain": [
       "(6000, 784)"
      ]
     },
     "execution_count": 29,
     "metadata": {},
     "output_type": "execute_result"
    }
   ],
   "source": [
    "(X.reshape(X.shape[0], 28*28)).shape"
   ]
  },
  {
   "cell_type": "code",
   "execution_count": null,
   "metadata": {},
   "outputs": [],
   "source": []
  }
 ],
 "metadata": {
  "colab": {
   "name": "SVC.ipynb",
   "provenance": []
  },
  "kernelspec": {
   "display_name": "Python 3",
   "language": "python",
   "name": "python3"
  },
  "language_info": {
   "codemirror_mode": {
    "name": "ipython",
    "version": 3
   },
   "file_extension": ".py",
   "mimetype": "text/x-python",
   "name": "python",
   "nbconvert_exporter": "python",
   "pygments_lexer": "ipython3",
   "version": "3.7.10"
  }
 },
 "nbformat": 4,
 "nbformat_minor": 1
}
