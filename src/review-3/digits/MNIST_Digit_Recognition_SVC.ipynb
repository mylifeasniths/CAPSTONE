{
 "cells": [
  {
   "cell_type": "markdown",
   "metadata": {
    "colab_type": "text",
    "id": "LJ5m9xJJaS1s"
   },
   "source": [
    "# Challenge2 - MNIST Handwritten Digit Recognition | #100MLProjects | #Laxmena\n",
    "\n",
    "100MLProjects Pre Project Update: [Blog: Challenge-2 MNIST Digit Recognition](https://medium.com/@laxmena/project2-of-100mlprojetcs-classification-mnist-digit-recognition-d9208856f1f2)\n",
    "\n",
    "- LinkedIn: https://www.linkedin.com/in/lakshmanan-meiyappan/\n",
    "- Github: https://github.com/laxmena/\n"
   ]
  },
  {
   "cell_type": "markdown",
   "metadata": {
    "colab_type": "text",
    "id": "AAK8AQ6KanUF"
   },
   "source": [
    "## SVM Classifier\n"
   ]
  },
  {
   "cell_type": "code",
   "execution_count": 1,
   "metadata": {
    "colab": {},
    "colab_type": "code",
    "id": "jrP36pD4MEFo"
   },
   "outputs": [],
   "source": [
    "import numpy as np\n",
    "import pandas as pd\n",
    "import matplotlib.pyplot as plt\n",
    "from sklearn.svm import SVC\n",
    "from sklearn.metrics import confusion_matrix, accuracy_score\n",
    "from sklearn.metrics import classification_report\n",
    "import pickle \n",
    "import gzip\n",
    "import random\n",
    "import joblib"
   ]
  },
  {
   "cell_type": "code",
   "execution_count": 2,
   "metadata": {
    "colab": {},
    "colab_type": "code",
    "id": "464YKpvVMKcz"
   },
   "outputs": [],
   "source": [
    "def load_mnist(filename, type, n_datapoints):\n",
    "    # MNIST Images have 28*28 pixels dimension\n",
    "    image_size = 28\n",
    "    f = gzip.open(filename)\n",
    "    \n",
    "    if(type == 'image'):\n",
    "        f.read(16)    # Skip Non-Image information\n",
    "        buf = f.read(n_datapoints * image_size * image_size)\n",
    "        data = np.frombuffer(buf, dtype=np.uint8).astype(np.float32)\n",
    "        data = data.reshape(n_datapoints, image_size*image_size)\n",
    "    elif(type == 'label'):\n",
    "        f.read(8) # Skip Inessential information\n",
    "        buf = f.read(n_datapoints)\n",
    "        data = np.frombuffer(buf, dtype=np.uint8).astype(np.int64)\n",
    "        data = data.reshape(n_datapoints, 1)\n",
    "    return data"
   ]
  },
  {
   "cell_type": "markdown",
   "metadata": {
    "colab_type": "text",
    "id": "_uPJdjkvbVlE"
   },
   "source": [
    "Training Set comprises of 60K images and labels.\n",
    "Test set comprises of 10K images and labels."
   ]
  },
  {
   "cell_type": "code",
   "execution_count": 3,
   "metadata": {
    "colab": {},
    "colab_type": "code",
    "id": "0dpkr2rkMV5H"
   },
   "outputs": [],
   "source": [
    "# Training Dataset\n",
    "train_size = 60000\n",
    "test_size = 10000\n",
    "dirpath = ''\n",
    "X = load_mnist(dirpath + 'train-images-idx3-ubyte.gz', 'image', train_size)\n",
    "y = load_mnist(dirpath + 'train-labels-idx1-ubyte.gz', 'label', train_size)\n",
    "X_test = load_mnist(dirpath + 't10k-images-idx3-ubyte.gz', 'image', test_size)\n",
    "y_test = load_mnist(dirpath + 't10k-labels-idx1-ubyte.gz', 'label', test_size)"
   ]
  },
  {
   "cell_type": "markdown",
   "metadata": {
    "colab_type": "text",
    "id": "c63vS9lpbcq4"
   },
   "source": [
    "## Build Classifier\n",
    "\n",
    "sklearn(scikit learn) is a Machine Learning library that contains most of the popular Machine Learning Models implementations.\n",
    "\n",
    "Creating and training a SVM Classifier."
   ]
  },
  {
   "cell_type": "code",
   "execution_count": 4,
   "metadata": {
    "colab": {
     "base_uri": "https://localhost:8080/",
     "height": 142
    },
    "colab_type": "code",
    "id": "8gegA9dDMh-2",
    "outputId": "113b8467-1e12-4e2a-c148-086fb25836e2"
   },
   "outputs": [
    {
     "name": "stderr",
     "output_type": "stream",
     "text": [
      "C:\\Users\\manib\\miniconda3\\envs\\menv\\lib\\site-packages\\sklearn\\utils\\validation.py:63: DataConversionWarning: A column-vector y was passed when a 1d array was expected. Please change the shape of y to (n_samples, ), for example using ravel().\n",
      "  return f(*args, **kwargs)\n"
     ]
    },
    {
     "data": {
      "text/plain": [
       "['svc_m.gz']"
      ]
     },
     "execution_count": 4,
     "metadata": {},
     "output_type": "execute_result"
    }
   ],
   "source": [
    "classifier = SVC()\n",
    "classifier.fit(X, y)\n",
    "# classifier.fit(X.reshape(X.shape[0], 28*28), y)\n",
    "joblib.dump(classifier,'svc_m.gz',compress=('gzip',3))"
   ]
  },
  {
   "cell_type": "code",
   "execution_count": null,
   "metadata": {
    "colab": {
     "base_uri": "https://localhost:8080/",
     "height": 34
    },
    "colab_type": "code",
    "id": "m9sXatwTMjOw",
    "outputId": "a1c86b20-5d22-40e5-eeb7-2b4c330598e2"
   },
   "outputs": [
    {
     "data": {
      "text/plain": [
       "0.9792"
      ]
     },
     "execution_count": 9,
     "metadata": {
      "tags": []
     },
     "output_type": "execute_result"
    }
   ],
   "source": [
    "classifier.score(X_test, y_test)\n",
    "# classifier.score(X_test.reshape(X_test.shape[0], 28*28), y_test)"
   ]
  },
  {
   "cell_type": "markdown",
   "metadata": {
    "colab_type": "text",
    "id": "R2KNG9MQQnkt"
   },
   "source": [
    "Accuracy of the classifier is 97.92%"
   ]
  },
  {
   "cell_type": "markdown",
   "metadata": {
    "colab_type": "text",
    "id": "2YMCmGwfcb0G"
   },
   "source": [
    "## Saving the Model\n",
    "\n",
    "The trained SVC Model is saved, so that the model can be reconstructed and used in different python modules or applications."
   ]
  },
  {
   "cell_type": "markdown",
   "metadata": {
    "colab_type": "text",
    "id": "EY3bjkCOdAHZ"
   },
   "source": [
    "Joblib is a library, that allows us to save a copy of runtime data in a file, and load it back whenever we need it.\n",
    "\n",
    "- joblib.dump - Save the runtime data in a file\n",
    "- joblib.load - Load the saved data from file to the runtime\n",
    "\n",
    "Other option is to use pickle. But using pickle can result in very large file size. KNN model trained on 60K MNIST 28*28 images can be around 420MB.\n",
    "\n",
    "Joblib offers compression. The same KNN model can weigh only 4MB if saved using compression enabled joblib."
   ]
  },
  {
   "cell_type": "code",
   "execution_count": null,
   "metadata": {
    "colab": {
     "base_uri": "https://localhost:8080/",
     "height": 34
    },
    "colab_type": "code",
    "id": "Juhs03UJOhk1",
    "outputId": "8f90b773-a9e1-40b8-e22e-d09376910f01"
   },
   "outputs": [
    {
     "data": {
      "text/plain": [
       "['svc_mnist_60k.gz']"
      ]
     },
     "execution_count": 12,
     "metadata": {
      "tags": []
     },
     "output_type": "execute_result"
    }
   ],
   "source": [
    "joblib.dump(classifier,'svc_m.gz',compress=('gzip',3))"
   ]
  }
 ],
 "metadata": {
  "colab": {
   "authorship_tag": "ABX9TyPAqm1TLg46tp9I+mcKTW6D",
   "collapsed_sections": [],
   "mount_file_id": "1HEtOuz5s-TuYNAK-F53pcULo6GcJYeuj",
   "name": "MNIST Digit Recognition SVC.ipynb",
   "provenance": []
  },
  "kernelspec": {
   "display_name": "Python 3",
   "language": "python",
   "name": "python3"
  },
  "language_info": {
   "codemirror_mode": {
    "name": "ipython",
    "version": 3
   },
   "file_extension": ".py",
   "mimetype": "text/x-python",
   "name": "python",
   "nbconvert_exporter": "python",
   "pygments_lexer": "ipython3",
   "version": "3.7.10"
  }
 },
 "nbformat": 4,
 "nbformat_minor": 1
}
