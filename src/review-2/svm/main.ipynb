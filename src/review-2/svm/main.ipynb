{
 "cells": [
  {
   "cell_type": "code",
   "execution_count": 18,
   "id": "11cde6db",
   "metadata": {},
   "outputs": [
    {
     "name": "stdout",
     "output_type": "stream",
     "text": [
      "loading dataset...\n",
      "training model...\n",
      "Evaluating model... \n",
      "Accuracy:  97.92\n",
      "Modal saved\n"
     ]
    }
   ],
   "source": [
    "# This cell is used for Creation of model\n",
    "\n",
    "import joblib\n",
    "from sklearn.svm import SVC\n",
    "from sklearn.metrics import confusion_matrix, accuracy_score\n",
    "import gzip\n",
    "from tensorflow.keras.datasets  import mnist\n",
    "# from tensorflow.keras.utils  import to_categorical\n",
    "\n",
    "def load_dataset():\n",
    "    (trainX, trainY), (testX, testY) = mnist.load_data()\n",
    "    # reshape dataset to have a single channel\n",
    "    nsamples, nx, ny = trainX.shape\n",
    "    trainX = trainX.reshape((nsamples, nx*ny ))\n",
    "    nsamples, nx, ny = testX.shape\n",
    "    testX = testX.reshape((nsamples, nx*ny))\n",
    "\n",
    "    # trainY = to_categorical(trainY)\n",
    "    # testY = to_categorical(testY)\n",
    "    return trainX, trainY, testX, testY\n",
    "\n",
    "\n",
    "def process_pixels(train, test):\n",
    "    # convert from integers to floats\n",
    "    train_norm = train.astype('float32')\n",
    "    test_norm = test.astype('float32')\n",
    "    # normalize the pixel range from 0-255 to range 0-1\n",
    "    train_norm = train_norm / 255.0\n",
    "    test_norm = test_norm / 255.0\n",
    "    return train_norm, test_norm\n",
    "\n",
    "def main():\n",
    "    print('loading dataset...')\n",
    "    trainX, trainY, testX, testY = load_dataset()\n",
    "    trainX,testX = process_pixels(trainX,testX)\n",
    "\n",
    "    print('training model...')\n",
    "    classifier = SVC()\n",
    "    classifier.fit(trainX,trainY)\n",
    "\n",
    "    print('Evaluating model... ')\n",
    "    \n",
    "    accuracy = classifier.score(testX,testY)\n",
    "    print('Accuracy: ',accuracy*100)\n",
    "\n",
    "    joblib.dump(classifier,'svm_model.gz',compress=('gzip',3))\n",
    "    print('Modal saved')\n",
    "\n",
    "main()"
   ]
  },
  {
   "cell_type": "code",
   "execution_count": 75,
   "id": "53e85e9b",
   "metadata": {},
   "outputs": [
    {
     "name": "stdout",
     "output_type": "stream",
     "text": [
      "loading dataset...\n",
      "loading model...\n",
      "actual    : 5\n",
      "predicted : 5\n"
     ]
    },
    {
     "data": {
      "image/png": "[encoded data removed]",
      "text/plain": [
       "<Figure size 432x288 with 1 Axes>"
      ]
     },
     "metadata": {
      "needs_background": "light"
     },
     "output_type": "display_data"
    }
   ],
   "source": [
    "# This cell is used for prediction process\n",
    "\n",
    "import joblib\n",
    "import gzip\n",
    "from matplotlib import pyplot\n",
    "from tensorflow.keras.datasets  import mnist\n",
    "import numpy as np\n",
    "from random import randint\n",
    "\n",
    "def load_dataset():\n",
    "    (trainX, trainY), (testX, testY) = mnist.load_data()\n",
    "    # reshape dataset to have a single channel\n",
    "    nsamples, nx, ny = trainX.shape\n",
    "    trainX = trainX.reshape((nsamples, nx*ny ))\n",
    "    \n",
    "    nsamples, nx, ny = testX.shape\n",
    "    testX = testX.reshape((nsamples, nx*ny))\n",
    "\n",
    "    # trainY = to_categorical(trainY)\n",
    "    # testY = to_categorical(testY)\n",
    "    return trainX, trainY, testX, testY\n",
    "\n",
    "\n",
    "def process_pixels(train, test):\n",
    "    # convert from integers to floats\n",
    "    train_norm = train.astype('float32')\n",
    "    test_norm = test.astype('float32')\n",
    "    # normalize the pixel range from 0-255 to range 0-1\n",
    "    train_norm = train_norm / 255.0\n",
    "    test_norm = test_norm / 255.0\n",
    "    return train_norm, test_norm\n",
    "\n",
    "\n",
    "def main():\n",
    "    print('loading dataset...')\n",
    "    trainX, trainY, testX, testY = load_dataset()\n",
    "    trainX,testX = process_pixels(trainX,testX)\n",
    "\n",
    "    print('loading model...')\n",
    "    classifier =  joblib.load('svm_model.gz')\n",
    "    \n",
    "    # random index from testX     \n",
    "    index = randint(0,testX.shape[0])\n",
    "        \n",
    "    digit = classifier.predict([testX[index]])\n",
    "    print(testX[index].shape)\n",
    "    \n",
    "    # converting a single dimentional image array to 2 dimentional     \n",
    "    image_1d = np.array(testX[index])\n",
    "    image_2d = image_1d.reshape(28,28)\n",
    "    pyplot.imshow(image_2d)\n",
    "    \n",
    "    print('actual    :',testY[index])\n",
    "    print('predicted :',digit[0])\n",
    "    \n",
    "main()"
   ]
  }
 ],
 "metadata": {
  "kernelspec": {
   "display_name": "menv",
   "language": "python",
   "name": "tensorflow"
  },
  "language_info": {
   "codemirror_mode": {
    "name": "ipython",
    "version": 3
   },
   "file_extension": ".py",
   "mimetype": "text/x-python",
   "name": "python",
   "nbconvert_exporter": "python",
   "pygments_lexer": "ipython3",
   "version": "3.7.10"
  }
 },
 "nbformat": 4,
 "nbformat_minor": 5
}