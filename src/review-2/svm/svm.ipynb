{
 "cells": [
  {
   "cell_type": "code",
   "execution_count": null,
   "id": "11cde6db",
   "metadata": {},
   "outputs": [],
   "source": [
    "# This cell is used for Creation of model\n",
    "\n",
    "import joblib\n",
    "from sklearn.svm import SVC\n",
    "from sklearn.metrics import confusion_matrix, accuracy_score\n",
    "import gzip\n",
    "from tensorflow.keras.datasets  import mnist\n",
    "# from tensorflow.keras.utils  import to_categorical\n",
    "\n",
    "def load_dataset():\n",
    "    (trainX, trainY), (testX, testY) = mnist.load_data()\n",
    "    # reshape dataset to have a single channel\n",
    "    nsamples, nx, ny = trainX.shape\n",
    "    trainX = trainX.reshape((nsamples, nx*ny ))\n",
    "    nsamples, nx, ny = testX.shape\n",
    "    testX = testX.reshape((nsamples, nx*ny))\n",
    "\n",
    "    # trainY = to_categorical(trainY)\n",
    "    # testY = to_categorical(testY)\n",
    "    return trainX, trainY, testX, testY\n",
    "\n",
    "\n",
    "def process_pixels(train, test):\n",
    "    # convert from integers to floats\n",
    "    train_norm = train.astype('float32')\n",
    "    test_norm = test.astype('float32')\n",
    "    # normalize the pixel range from 0-255 to range 0-1\n",
    "    train_norm = train_norm / 255.0\n",
    "    test_norm = test_norm / 255.0\n",
    "    return train_norm, test_norm\n",
    "\n",
    "trainX, trainY, testX, testY = load_dataset()\n",
    "trainX,testX = process_pixels(trainX,testX)\n",
    "\n",
    "classifier = SVC()\n",
    "classifier.fit(trainX,trainY)\n",
    "\n",
    "accuracy = classifier.score(testX,testY)\n",
    "print('Accuracy: ',accuracy)\n",
    "\n",
    "joblib.dump(classifier,'svm_model.gz',compress=('gzip',3))\n"
   ]
  },
  {
   "cell_type": "code",
   "execution_count": 4,
   "id": "53e85e9b",
   "metadata": {},
   "outputs": [
    {
     "name": "stdout",
     "output_type": "stream",
     "text": [
      "loading dataset...\n",
      "loading model...\n",
      "actual    : 0\n",
      "predicted : [0]\n"
     ]
    }
   ],
   "source": [
    "# This cell is used for prediction process\n",
    "\n",
    "import joblib\n",
    "import gzip\n",
    "from tensorflow.keras.datasets  import mnist\n",
    "\n",
    "\n",
    "def load_dataset():\n",
    "    (trainX, trainY), (testX, testY) = mnist.load_data()\n",
    "    # reshape dataset to have a single channel\n",
    "    nsamples, nx, ny = trainX.shape\n",
    "    trainX = trainX.reshape((nsamples, nx*ny ))\n",
    "    \n",
    "    nsamples, nx, ny = testX.shape\n",
    "    testX = testX.reshape((nsamples, nx*ny))\n",
    "\n",
    "    # trainY = to_categorical(trainY)\n",
    "    # testY = to_categorical(testY)\n",
    "    return trainX, trainY, testX, testY\n",
    "\n",
    "\n",
    "def process_pixels(train, test):\n",
    "    # convert from integers to floats\n",
    "    train_norm = train.astype('float32')\n",
    "    test_norm = test.astype('float32')\n",
    "    # normalize the pixel range from 0-255 to range 0-1\n",
    "    train_norm = train_norm / 255.0\n",
    "    test_norm = test_norm / 255.0\n",
    "    return train_norm, test_norm\n",
    "\n",
    "\n",
    "def main():\n",
    "    print('loading dataset...')\n",
    "\n",
    "    trainX, trainY, testX, testY = load_dataset()\n",
    "    trainX,testX = process_pixels(trainX,testX)\n",
    "\n",
    "    print('loading model...')\n",
    "\n",
    "    classifier =  joblib.load('svm_model.gz')\n",
    "    digit = classifier.predict([testX[10]])\n",
    "\n",
    "    print('actual    :',testY[10])\n",
    "    print('predicted :',digit)\n",
    "    \n",
    "main()"
   ]
  },
  {
   "cell_type": "code",
   "execution_count": 1,
   "id": "7caf0397",
   "metadata": {},
   "outputs": [
    {
     "name": "stdout",
     "output_type": "stream",
     "text": [
      "asdfsadf\n"
     ]
    }
   ],
   "source": []
  }
 ],
 "metadata": {
  "kernelspec": {
   "display_name": "menv",
   "language": "python",
   "name": "tensorflow"
  },
  "language_info": {
   "codemirror_mode": {
    "name": "ipython",
    "version": 3
   },
   "file_extension": ".py",
   "mimetype": "text/x-python",
   "name": "python",
   "nbconvert_exporter": "python",
   "pygments_lexer": "ipython3",
   "version": "3.7.10"
  }
 },
 "nbformat": 4,
 "nbformat_minor": 5
}
