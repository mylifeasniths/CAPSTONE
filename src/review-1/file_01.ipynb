{
  "nbformat": 4,
  "nbformat_minor": 0,
  "metadata": {
    "colab": {
      "name": "file-01.ipynb",
      "provenance": []
    },
    "kernelspec": {
      "name": "python3",
      "display_name": "Python 3"
    }
  },
  "cells": [
    {
      "cell_type": "markdown",
      "metadata": {
        "id": "ofnW-m6qHWBn"
      },
      "source": [
        "**MNIST** dataset is an acronym that stands for the Modified National Institute of Standards and Technology dataset.\r\n",
        "\r\n",
        "It is a dataset of 60,000 small square 28×28 pixel grayscale images of handwritten single digits between 0 and 9."
      ]
    },
    {
      "cell_type": "code",
      "metadata": {
        "colab": {
          "base_uri": "https://localhost:8080/",
          "height": 183
        },
        "id": "-xHkaJjKE1Y2",
        "outputId": "dcb79857-bc9a-4205-b96e-e8275fff5a2c"
      },
      "source": [
        "from keras.datasets import mnist\r\n",
        "from matplotlib import pyplot\r\n",
        "\r\n",
        "# Dataset is Downloaded from Internet\r\n",
        "(trainX, trainY), (testX, testY) = mnist.load_data()\r\n",
        "\r\n",
        "print(f'Training: ')\r\n",
        "print(f'x: ',trainX.shape ,end='\\t')\r\n",
        "print(f'y: ',trainY.shape)\r\n",
        "\r\n",
        "print(f'Testing: ')\r\n",
        "print(f'x: ',testX.shape,end='\\t')\r\n",
        "print(f'y: ',testY.shape)\r\n",
        "\r\n",
        "# Plot first few Training Images\r\n",
        "for i in range(3):\r\n",
        "\tpyplot.subplot(330 + 1 + i)\r\n",
        "\tpyplot.imshow(trainX[i])    #  cmap=pyplot.get_cmap('gray') --> to make preview as grey scale\r\n",
        "pyplot.show()\r\n"
      ],
      "execution_count": null,
      "outputs": [
        {
          "output_type": "stream",
          "text": [
            "Training: \n",
            "x:  (60000, 28, 28)\ty:  (60000,)\n",
            "Testing: \n",
            "x:  (10000, 28, 28)\ty:  (10000,)\n"
          ],
          "name": "stdout"
        },
        {
          "output_type": "display_data",
          "data": {
            "image/png": "[encoded data removed]",
            "text/plain": [
              "<Figure size 432x288 with 3 Axes>"
            ]
          },
          "metadata": {
            "tags": [],
            "needs_background": "light"
          }
        }
      ]
    },
    {
      "cell_type": "code",
      "metadata": {
        "colab": {
          "base_uri": "https://localhost:8080/"
        },
        "id": "6JVdtlkIUUTu",
        "outputId": "15b617c6-3f84-4677-a642-f994f078385b"
      },
      "source": [
        "from keras.utils import to_categorical\r\n",
        "\r\n",
        "# reshape dataset to have a single channel\r\n",
        "trainX = trainX.reshape((trainX.shape[0], 28, 28, 1))\r\n",
        "testX = testX.reshape((testX.shape[0], 28, 28, 1))\r\n",
        "\r\n",
        "print(trainY[0])\r\n",
        "\r\n",
        "trainY = to_categorical(trainY)\r\n",
        "testY = to_categorical(testY)\r\n",
        "print(trainY[0])"
      ],
      "execution_count": null,
      "outputs": [
        {
          "output_type": "stream",
          "text": [
            "0\n",
            "[1. 0. 0. 0. 0. 0. 0. 0. 0. 0.]\n"
          ],
          "name": "stdout"
        }
      ]
    }
  ]
}