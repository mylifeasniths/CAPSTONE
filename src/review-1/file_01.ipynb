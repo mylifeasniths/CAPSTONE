{
 "cells": [
  {
   "cell_type": "markdown",
   "metadata": {},
   "source": [
    "### MNIST (Modified National Institute of Standards and Technology dataset)\n",
    "It is a dataset of **70,000** small square **28×28 pixel** grayscale images of handwritten single digits between 0 and 9."
   ]
  },
  {
   "cell_type": "code",
   "execution_count": 1,
   "metadata": {
    "colab": {
     "base_uri": "https://localhost:8080/",
     "height": 183
    },
    "id": "-xHkaJjKE1Y2",
    "outputId": "dcb79857-bc9a-4205-b96e-e8275fff5a2c"
   },
   "outputs": [
    {
     "name": "stdout",
     "output_type": "stream",
     "text": [
      "Training: \n",
      "x:  (60000, 28, 28)\ty:  (60000,)\n",
      "Testing: \n",
      "x:  (10000, 28, 28)\ty:  (10000,)\n"
     ]
    },
    {
     "data": {
      "image/png": "[encoded data removed]",
      "text/plain": [
       "<Figure size 432x288 with 3 Axes>"
      ]
     },
     "metadata": {
      "needs_background": "light"
     },
     "output_type": "display_data"
    },
    {
     "name": "stdout",
     "output_type": "stream",
     "text": [
      "5 0 4 "
     ]
    }
   ],
   "source": [
    "from tensorflow.keras.datasets import mnist\n",
    "from matplotlib import pyplot\n",
    "\n",
    "# Dataset is Downloaded from Internet\n",
    "(trainX, trainY), (testX, testY) = mnist.load_data()\n",
    "\n",
    "print(f'Training: ')\n",
    "print(f'x: ',trainX.shape ,end='\\t')\n",
    "print(f'y: ',trainY.shape)\n",
    "\n",
    "print(f'Testing: ')\n",
    "print(f'x: ',testX.shape,end='\\t')\n",
    "print(f'y: ',testY.shape)\n",
    "\n",
    "# Plot first few Training Images\n",
    "for i in range(3):\n",
    "\tpyplot.subplot(330 + 1 + i)\n",
    "\tpyplot.imshow(trainX[i])    #  cmap=pyplot.get_cmap('gray') --> to make preview as grey scale\n",
    "pyplot.show()\n",
    "\n",
    "for i in range(3):\n",
    "\tprint(trainY[i], end=\" \")\n"
   ]
  },
  {
   "cell_type": "code",
   "execution_count": 36,
   "metadata": {
    "colab": {
     "base_uri": "https://localhost:8080/"
    },
    "id": "6JVdtlkIUUTu",
    "outputId": "15b617c6-3f84-4677-a642-f994f078385b"
   },
   "outputs": [],
   "source": [
    "from tensorflow.keras.utils import to_categorical\n",
    "\n",
    "# reshape dataset to have a single channel\n",
    "trainX = trainX.reshape((trainX.shape[0], 28, 28, 1))\n",
    "testX = testX.reshape((testX.shape[0], 28, 28, 1))\n",
    "\n",
    "trainY = to_categorical(trainY)\n",
    "testY = to_categorical(testY)"
   ]
  }
 ],
 "metadata": {
  "colab": {
   "name": "file-01.ipynb",
   "provenance": []
  },
  "kernelspec": {
   "display_name": "Python [conda env:menv] *",
   "language": "python",
   "name": "conda-env-menv-py"
  },
  "language_info": {
   "codemirror_mode": {
    "name": "ipython",
    "version": 3
   },
   "file_extension": ".py",
   "mimetype": "text/x-python",
   "name": "python",
   "nbconvert_exporter": "python",
   "pygments_lexer": "ipython3",
   "version": "3.7.10"
  }
 },
 "nbformat": 4,
 "nbformat_minor": 1
}
