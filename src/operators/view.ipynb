{
 "cells": [
  {
   "cell_type": "code",
   "execution_count": 1,
   "id": "883ab82d",
   "metadata": {},
   "outputs": [
    {
     "name": "stdout",
     "output_type": "stream",
     "text": [
      "loaded test_x.npz: (229, 784)\n",
      "loaded test_y.npz: (229,)\n",
      "operator: sub\n",
      "(28, 28)\n"
     ]
    },
    {
     "data": {
      "image/png": "[encoded data removed]",
      "text/plain": [
       "<Figure size 432x288 with 1 Axes>"
      ]
     },
     "metadata": {
      "needs_background": "light"
     },
     "output_type": "display_data"
    }
   ],
   "source": [
    "# Visualize dataset\n",
    "import numpy as np\n",
    "from matplotlib import pyplot\n",
    "from dataset import load_dataset\n",
    "from random import randint\n",
    "\n",
    "categories = ['add','sub','mul','div']\n",
    "labels = {\n",
    "    'add' : '+',\n",
    "    'sub' : '-',\n",
    "    'mul' : '*',\n",
    "    'div' : '/',\n",
    "}\n",
    "\n",
    "def load_all_datasets():         \n",
    "    test_x = load_dataset('test_x.npz')\n",
    "    test_y = load_dataset('test_y.npz')\n",
    "    \n",
    "    index = randint(0,test_x.shape[0])\n",
    "    \n",
    "    image_1d = np.array(test_x[index])\n",
    "    image_2d = image_1d.reshape(28,28)\n",
    "    pyplot.imshow(image_2d)\n",
    "    print('operator:',test_y[index])\n",
    "    print(image_2d.shape)\n",
    "    \n",
    "\n",
    "def main():\n",
    "    load_all_datasets()\n",
    "\n",
    "\n",
    "if __name__ == \"__main__\" :\n",
    "    main()"
   ]
  },
  {
   "cell_type": "code",
   "execution_count": 2,
   "id": "0b58c3a6",
   "metadata": {},
   "outputs": [
    {
     "name": "stdout",
     "output_type": "stream",
     "text": [
      "loaded test_x.npz: (229, 784)\n",
      "loaded test_y.npz: (229,)\n",
      "actual    : sub\n",
      "predicted : sub\n"
     ]
    },
    {
     "data": {
      "image/png": "[encoded data removed]",
      "text/plain": [
       "<Figure size 432x288 with 1 Axes>"
      ]
     },
     "metadata": {
      "needs_background": "light"
     },
     "output_type": "display_data"
    }
   ],
   "source": [
    "# Test prediction \n",
    "import joblib\n",
    "from random import randint\n",
    "from matplotlib import pyplot\n",
    "import numpy as np\n",
    "from dataset import load_dataset\n",
    "\n",
    "# Idea\n",
    "# 1. load datasets\n",
    "# 2. load model\n",
    "# 3. predict randomly\n",
    "\n",
    "TRAIN_X = 'train_x.npz'\n",
    "TRAIN_Y = 'train_y.npz'\n",
    "TEST_X  = 'test_x.npz'\n",
    "TEST_Y  = 'test_y.npz'\n",
    "MODAL_NAME  = 'operators_svm_model.gz'\n",
    "\n",
    "def load_test_dataset():\n",
    "    \"\"\" \n",
    "    load and returns testing dataset and labels \n",
    "    returns :  test_x, test_y (all numpy arrays)\n",
    "    \"\"\"\n",
    "    test_x = load_dataset(TEST_X)\n",
    "    test_y = load_dataset(TEST_Y)\n",
    "    return test_x, test_y\n",
    "\n",
    "def pre_processing(test_x):\n",
    "    \"\"\" \n",
    "    process test_x by convering int to float & normalizing pixels values to the range on 0-1 \n",
    "    parameters : test_x (numpy array)\n",
    "    returns    : test_norm (numpy array)\n",
    "    \"\"\"\n",
    "    test_norm = test_x.astype('float32')\n",
    "    test_norm = test_norm / 255.0\n",
    "    return test_norm\n",
    "\n",
    "def main():\n",
    "    test_x, test_y = load_test_dataset()\n",
    "    test_x = pre_processing(test_x)\n",
    "\n",
    "    index = randint(0,test_x.shape[0] - 1)\n",
    "        \n",
    "    classifier = joblib.load(MODAL_NAME)\n",
    "    \n",
    "    result = classifier.predict([test_x[index]])\n",
    "    \n",
    "    # converting a single dimentional image array to 2 dimentional     \n",
    "    image_1d = np.array(test_x[index])\n",
    "    image_2d = image_1d.reshape(28,28)\n",
    "    pyplot.imshow(image_2d)\n",
    "    \n",
    "    print('actual    :',test_y[index])\n",
    "    print('predicted :',result[0])\n",
    "\n",
    "if __name__ == \"__main__\" :\n",
    "    main()"
   ]
  }
 ],
 "metadata": {
  "kernelspec": {
   "display_name": "Python [conda env:menv] *",
   "language": "python",
   "name": "conda-env-menv-py"
  },
  "language_info": {
   "codemirror_mode": {
    "name": "ipython",
    "version": 3
   },
   "file_extension": ".py",
   "mimetype": "text/x-python",
   "name": "python",
   "nbconvert_exporter": "python",
   "pygments_lexer": "ipython3",
   "version": "3.7.10"
  }
 },
 "nbformat": 4,
 "nbformat_minor": 5
}
